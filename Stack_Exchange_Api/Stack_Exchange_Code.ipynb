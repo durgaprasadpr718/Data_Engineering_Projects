{
 "cells": [
  {
   "cell_type": "code",
   "execution_count": null,
   "id": "4c1af408",
   "metadata": {},
   "outputs": [],
   "source": [
    "import requests\n",
    "from collections import Counter\n",
    "from datetime import datetime, timedelta\n",
    "import csv\n",
    "import pandas as pd\n",
    "\n",
    "def get_top_trending_tags():\n",
    "    # Set the API parameters\n",
    "    base_url = 'https://api.stackexchange.com/2.3/questions'\n",
    "    params = {\n",
    "        'site': 'stackoverflow',\n",
    "        'order': 'desc',\n",
    "        'sort': 'creation',\n",
    "        'fromdate': int((datetime.now() - timedelta(days=30)).timestamp()),\n",
    "        'todate': int(datetime.now().timestamp()),\n",
    "        'pagesize': 100\n",
    "    }\n",
    "\n",
    "    # Make the API request\n",
    "    response = requests.get(base_url, params=params)\n",
    "    data = response.json()['items']\n",
    "\n",
    "    # Extract required tags from each question\n",
    "    tags = [tag for question in data for tag in question['tags']]\n",
    "\n",
    "    # Count tag occurrences\n",
    "    tag_counts = Counter(tags)\n",
    "\n",
    "    # Get the top trending tags using top count\n",
    "    top_tags = tag_counts.most_common(1000)  # Change the number as needed\n",
    "\n",
    "    return top_tags\n",
    "\n",
    "top_tags = get_top_trending_tags()\n",
    "df = pd.DataFrame(top_tags, columns = ['Tag', 'pagesize'])\n",
    "path = (r\"C:\\Users\\DurgaprasadChou\\Downloads\\top_tags.csv\")\n",
    "df.to_csv(path,index=False,header=True)"
   ]
  }
 ],
 "metadata": {
  "kernelspec": {
   "display_name": "Python 3 (ipykernel)",
   "language": "python",
   "name": "python3"
  },
  "language_info": {
   "codemirror_mode": {
    "name": "ipython",
    "version": 3
   },
   "file_extension": ".py",
   "mimetype": "text/x-python",
   "name": "python",
   "nbconvert_exporter": "python",
   "pygments_lexer": "ipython3",
   "version": "3.9.12"
  }
 },
 "nbformat": 4,
 "nbformat_minor": 5
}
